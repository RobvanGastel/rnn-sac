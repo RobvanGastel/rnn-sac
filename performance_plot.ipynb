{
 "cells": [
  {
   "cell_type": "code",
   "execution_count": null,
   "id": "liked-reform",
   "metadata": {},
   "outputs": [],
   "source": [
    "%load_ext autoreload\n",
    "%autoreload 2\n",
    "\n",
    "import sys\n",
    "sys.path.insert(0,'..')\n",
    "sys.path.insert(0,'../rnn-sac')\n",
    "\n",
    "import torch\n",
    "from utils import plot\n",
    "import gym"
   ]
  },
  {
   "cell_type": "markdown",
   "id": "destroyed-pharmacy",
   "metadata": {},
   "source": [
    "### Comparison of LSTM SAC and SAC on the Pendulum task"
   ]
  },
  {
   "cell_type": "code",
   "execution_count": null,
   "id": "instant-declaration",
   "metadata": {},
   "outputs": [],
   "source": [
    "# Regular OpenAI SpinningUp SAC\n",
    "\n",
    "\n",
    "plot.make_plots(['/home/rob/Git/rnn-sac/rnn-sac/data/LSTM_SAC',\n",
    "                '/home/rob/Git/rnn-sac/rnn-sac/data/MLP_SAC',\n",
    "                '/home/rob/Git/rnn-sac/rnn-sac/data/GRU_SAC'],\n",
    "                values=['AverageTestEpRet', 'AverageEpRet', 'LossQ', \n",
    "                        'LossPi','AverageQ2Vals', 'AverageQ1Vals'], \n",
    "                xaxis='Epoch',\n",
    "                smooth=0.6)"
   ]
  },
  {
   "cell_type": "markdown",
   "id": "worse-incidence",
   "metadata": {},
   "source": [
    "### Comparing the results of RL$^2$ on the meta-world ML1"
   ]
  },
  {
   "cell_type": "markdown",
   "id": "medical-wallpaper",
   "metadata": {},
   "source": [
    "The distribution $\\mathcal{D}$ of tasks $\\mathcal{T_i}$ consists of the `push-v2` tasks. Hence, from $\\mathcal{D}$ is sampled during training and testing."
   ]
  },
  {
   "cell_type": "code",
   "execution_count": null,
   "id": "allied-gibraltar",
   "metadata": {},
   "outputs": [],
   "source": [
    "plot.make_plots([\n",
    "                 '/home/rob/Git/rnn-sac/rnn-sac/data/rl2'],\n",
    "                values=['AverageTestEpRet', 'AverageEpRet'], \n",
    "                xaxis='Epoch',\n",
    "                smooth=0.6)"
   ]
  },
  {
   "cell_type": "code",
   "execution_count": null,
   "id": "floating-collapse",
   "metadata": {},
   "outputs": [],
   "source": []
  }
 ],
 "metadata": {
  "kernelspec": {
   "display_name": "Python 3",
   "language": "python",
   "name": "python3"
  },
  "language_info": {
   "codemirror_mode": {
    "name": "ipython",
    "version": 3
   },
   "file_extension": ".py",
   "mimetype": "text/x-python",
   "name": "python",
   "nbconvert_exporter": "python",
   "pygments_lexer": "ipython3",
   "version": "3.7.10"
  }
 },
 "nbformat": 4,
 "nbformat_minor": 5
}
