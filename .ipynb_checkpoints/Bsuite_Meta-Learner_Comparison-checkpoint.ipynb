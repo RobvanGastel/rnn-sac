{
 "cells": [
  {
   "cell_type": "code",
   "execution_count": 23,
   "metadata": {},
   "outputs": [
    {
     "data": {
      "text/plain": [
       "('tensorflow version: ', '2.1.0')"
      ]
     },
     "execution_count": 23,
     "metadata": {},
     "output_type": "execute_result"
    }
   ],
   "source": [
    "import os\n",
    "import time \n",
    "import random\n",
    "\n",
    "import numpy as np\n",
    "import pandas as pd\n",
    "import matplotlib.pyplot as plt\n",
    "\n",
    "import tensorflow as tf\n",
    "\n",
    "import bsuite\n",
    "from bsuite import sweep\n",
    "\n",
    "\"tensorflow version: \", tf.__version__"
   ]
  },
  {
   "cell_type": "markdown",
   "metadata": {},
   "source": [
    "### Bandit task\n",
    "> Finite-armed bandit with deterministic rewards [0, 0.1, ..1] (Gittins, 1979). 20 seeds.\n",
    "\n",
    "**TODO: Implement the 3 different tasks as proposed in \"Learning to Reinforcement learn\"**"
   ]
  },
  {
   "cell_type": "code",
   "execution_count": 15,
   "metadata": {},
   "outputs": [
    {
     "name": "stdout",
     "output_type": "stream",
     "text": [
      "\u001b[1m\u001b[37mLoaded bsuite_id: bandit/0.\u001b[0m\n",
      "bsuite_id=bandit/0, settings={'seed': None}, num_episodes=10000\n"
     ]
    },
    {
     "data": {
      "text/plain": [
       "{'_reset_next_step': True,\n",
       " '_rng': RandomState(MT19937) at 0x151A9B7C0,\n",
       " '_n_actions': 11,\n",
       " '_rewards': array([1. , 0.4, 0.3, 0.9, 0.6, 0.7, 0.2, 0.5, 0. , 0.8, 0.1]),\n",
       " '_total_regret': 0.0,\n",
       " '_optimal_return': 1.0,\n",
       " 'bsuite_num_episodes': 10000}"
      ]
     },
     "execution_count": 15,
     "metadata": {},
     "output_type": "execute_result"
    }
   ],
   "source": [
    "bsuite_id = sweep.BANDIT[0]\n",
    "env = bsuite.load_from_id(bsuite_id)\n",
    "print('bsuite_id={}, settings={}, num_episodes={}'\n",
    "        .format(bsuite_id, sweep.SETTINGS[bsuite_id], \n",
    "                env.bsuite_num_episodes))\n",
    "vars(env)"
   ]
  },
  {
   "cell_type": "code",
   "execution_count": 67,
   "metadata": {},
   "outputs": [
    {
     "data": {
      "text/plain": [
       "('bandit/0', 'bandit/1', 'bandit/2', 'bandit/3', 'bandit/4')"
      ]
     },
     "execution_count": 67,
     "metadata": {},
     "output_type": "execute_result"
    }
   ],
   "source": [
    "BASE_PATH = 'results/'\n",
    "\n",
    "bandit_tasks = sweep.BANDIT[:5]\n",
    "bandit_tasks"
   ]
  },
  {
   "cell_type": "markdown",
   "metadata": {},
   "source": [
    "### Random Agent\n",
    "> Chooses the next action at random"
   ]
  },
  {
   "cell_type": "code",
   "execution_count": null,
   "metadata": {},
   "outputs": [],
   "source": [
    "def run_random_agent(bsuite_id, save_path=SAVE_PATH_RAND, \n",
    "                     overwrite=True):\n",
    "    \"\"\" Evaluates a random agent experiment \n",
    "        on a single bsuite_id.\n",
    "    \"\"\"\n",
    "    env = bsuite.load_and_record(bsuite_id, \n",
    "                                 save_path, overwrite=overwrite)\n",
    "    for episode in range(env.bsuite_num_episodes):\n",
    "        timestep = env.reset()\n",
    "        while not timestep.last():\n",
    "            action = np.random.choice(env.action_spec().num_values)\n",
    "            timestep = env.step(action)\n",
    "    return"
   ]
  },
  {
   "cell_type": "code",
   "execution_count": 52,
   "metadata": {},
   "outputs": [
    {
     "name": "stdout",
     "output_type": "stream",
     "text": [
      "\u001b[1m\u001b[37mLoaded bsuite_id: bandit/0.\u001b[0m\n",
      "\u001b[1m\u001b[33mLogging results to CSV file for each bsuite_id in /Users/robvangastel/Git/meta-learners/results/rand.\u001b[0m\n",
      "\u001b[1m\u001b[37mLoaded bsuite_id: bandit/1.\u001b[0m\n",
      "\u001b[1m\u001b[33mLogging results to CSV file for each bsuite_id in /Users/robvangastel/Git/meta-learners/results/rand.\u001b[0m\n",
      "\u001b[1m\u001b[37mLoaded bsuite_id: bandit/2.\u001b[0m\n",
      "\u001b[1m\u001b[33mLogging results to CSV file for each bsuite_id in /Users/robvangastel/Git/meta-learners/results/rand.\u001b[0m\n",
      "\u001b[1m\u001b[37mLoaded bsuite_id: bandit/3.\u001b[0m\n",
      "\u001b[1m\u001b[33mLogging results to CSV file for each bsuite_id in /Users/robvangastel/Git/meta-learners/results/rand.\u001b[0m\n",
      "\u001b[1m\u001b[37mLoaded bsuite_id: bandit/4.\u001b[0m\n",
      "\u001b[1m\u001b[33mLogging results to CSV file for each bsuite_id in /Users/robvangastel/Git/meta-learners/results/rand.\u001b[0m\n"
     ]
    },
    {
     "data": {
      "text/plain": [
       "'/Users/robvangastel/Git/meta-learners/results/rand'"
      ]
     },
     "execution_count": 52,
     "metadata": {},
     "output_type": "execute_result"
    }
   ],
   "source": [
    "SAVE_PATH_RAND = os.path.join(os.getcwd(), BASE_PATH, 'rand')\n",
    "\n",
    "for bsuite_id in bandit_tasks:\n",
    "    run_random_agent(bsuite_id)"
   ]
  },
  {
   "cell_type": "code",
   "execution_count": 68,
   "metadata": {},
   "outputs": [
    {
     "name": "stdout",
     "output_type": "stream",
     "text": [
      "steps,episode,total_return,episode_len,episode_return,total_regret\r\n",
      "1,1,0.30000000000000004,1,0.30000000000000004,0.7\r\n",
      "2,2,0.4,1,0.1,1.6\r\n",
      "3,3,0.6000000000000001,1,0.2,2.4000000000000004\r\n",
      "4,4,1.4000000000000001,1,0.8,2.6000000000000005\r\n",
      "5,5,1.9000000000000001,1,0.5,3.1000000000000005\r\n",
      "6,6,2.7,1,0.8,3.3000000000000007\r\n",
      "7,7,3.3000000000000003,1,0.6000000000000001,3.7000000000000006\r\n",
      "8,8,3.5000000000000004,1,0.2,4.500000000000001\r\n",
      "9,9,3.6000000000000005,1,0.1,5.400000000000001\r\n"
     ]
    }
   ],
   "source": [
    "# The results are stored at,\n",
    "!head results/rand/bsuite_id_-_bandit-0.csv"
   ]
  },
  {
   "cell_type": "markdown",
   "metadata": {},
   "source": [
    "### MAML with Reinforcement Learning\n",
    "> Based on [**MAML: Model-Agnostic Meta-Learning for Fast Adaptation of Deep Networks**](https://arxiv.org/abs/1703.03400). We propose an algorithm for meta-learning that is model-agnostic, in the sense that it is compatible with any model trained with gradient descent and applicable to a variety of different learning problems, including classification, regression, and reinforcement learning.\n"
   ]
  },
  {
   "cell_type": "code",
   "execution_count": null,
   "metadata": {},
   "outputs": [],
   "source": []
  },
  {
   "cell_type": "code",
   "execution_count": null,
   "metadata": {},
   "outputs": [],
   "source": []
  },
  {
   "cell_type": "code",
   "execution_count": null,
   "metadata": {},
   "outputs": [],
   "source": []
  },
  {
   "cell_type": "code",
   "execution_count": null,
   "metadata": {},
   "outputs": [],
   "source": []
  },
  {
   "cell_type": "markdown",
   "metadata": {},
   "source": [
    "### Learning to Reinforcement Learn\n",
    "> Based on [**Learning to reinforcement learn**](https://arxiv.org/abs/1611.05763). A critical present objective is thus to develop deep RL methods that can adapt rapidly to new tasks. In the present work we introduce a novel approach to this challenge, which we refer to as deep meta-reinforcement learning."
   ]
  },
  {
   "cell_type": "code",
   "execution_count": null,
   "metadata": {},
   "outputs": [],
   "source": [
    "def run_A2C_LSTM_policy(bsuite_id, save_path=SAVE_PATH_RAND, \n",
    "                     overwrite=True):\n",
    "    \"\"\" Evaluates a A2C with LSTM agent experiment \n",
    "        on a single bsuite_id.\n",
    "    \"\"\"\n",
    "    env = bsuite.load_and_record(bsuite_id, \n",
    "                                 save_path, overwrite=overwrite)\n",
    "    for episode in range(env.bsuite_num_episodes):\n",
    "        timestep = env.reset()\n",
    "        while not timestep.last():\n",
    "            action = np.random.choice(env.action_spec().num_values)\n",
    "            timestep = env.step(action)\n",
    "    return"
   ]
  },
  {
   "cell_type": "code",
   "execution_count": null,
   "metadata": {},
   "outputs": [],
   "source": []
  },
  {
   "cell_type": "code",
   "execution_count": null,
   "metadata": {},
   "outputs": [],
   "source": []
  },
  {
   "cell_type": "markdown",
   "metadata": {},
   "source": [
    "### PEARL\n",
    "> Based on [**PEARL: Efficient Off-policy Meta-learning via Probabilistic Context Variables**](https://arxiv.org/abs/1903.08254). Deep reinforcement learning algorithms require large amounts of experience to learn an individual task. While in principle meta-reinforcement learning (meta-RL) algorithms enable agents to learn new skills from small amounts of experience, several major challenges preclude their practicality."
   ]
  },
  {
   "cell_type": "code",
   "execution_count": null,
   "metadata": {},
   "outputs": [],
   "source": []
  },
  {
   "cell_type": "code",
   "execution_count": null,
   "metadata": {},
   "outputs": [],
   "source": []
  },
  {
   "cell_type": "code",
   "execution_count": null,
   "metadata": {},
   "outputs": [],
   "source": []
  },
  {
   "cell_type": "markdown",
   "metadata": {},
   "source": [
    "### Visualize experimental results\n",
    "> Using the behavioral suite for Reinforcement Learning\n",
    "\n",
    "**TODO: Use given Bsuite methods**"
   ]
  },
  {
   "cell_type": "code",
   "execution_count": 55,
   "metadata": {},
   "outputs": [
    {
     "data": {
      "text/html": [
       "<div>\n",
       "<style scoped>\n",
       "    .dataframe tbody tr th:only-of-type {\n",
       "        vertical-align: middle;\n",
       "    }\n",
       "\n",
       "    .dataframe tbody tr th {\n",
       "        vertical-align: top;\n",
       "    }\n",
       "\n",
       "    .dataframe thead th {\n",
       "        text-align: right;\n",
       "    }\n",
       "</style>\n",
       "<table border=\"1\" class=\"dataframe\">\n",
       "  <thead>\n",
       "    <tr style=\"text-align: right;\">\n",
       "      <th></th>\n",
       "      <th>steps</th>\n",
       "      <th>episode</th>\n",
       "      <th>total_return</th>\n",
       "      <th>episode_len</th>\n",
       "      <th>episode_return</th>\n",
       "      <th>total_regret</th>\n",
       "      <th>bsuite_id</th>\n",
       "      <th>results_dir</th>\n",
       "      <th>bsuite_env</th>\n",
       "      <th>seed</th>\n",
       "      <th>...</th>\n",
       "      <th>reward_scale</th>\n",
       "      <th>height_threshold</th>\n",
       "      <th>x_reward_threshold</th>\n",
       "      <th>size</th>\n",
       "      <th>mapping_seed</th>\n",
       "      <th>memory_length</th>\n",
       "      <th>num_bits</th>\n",
       "      <th>n_distractor</th>\n",
       "      <th>chain_length</th>\n",
       "      <th>agent_name</th>\n",
       "    </tr>\n",
       "  </thead>\n",
       "  <tbody>\n",
       "    <tr>\n",
       "      <th>0</th>\n",
       "      <td>1</td>\n",
       "      <td>1</td>\n",
       "      <td>0.7</td>\n",
       "      <td>1</td>\n",
       "      <td>0.7</td>\n",
       "      <td>0.3</td>\n",
       "      <td>bandit/4</td>\n",
       "      <td>/Users/robvangastel/Git/meta-learners/results/...</td>\n",
       "      <td>bandit</td>\n",
       "      <td>NaN</td>\n",
       "      <td>...</td>\n",
       "      <td>NaN</td>\n",
       "      <td>NaN</td>\n",
       "      <td>NaN</td>\n",
       "      <td>NaN</td>\n",
       "      <td>NaN</td>\n",
       "      <td>NaN</td>\n",
       "      <td>NaN</td>\n",
       "      <td>NaN</td>\n",
       "      <td>NaN</td>\n",
       "      <td>/Users/robvangastel/Git/meta-learners/results/...</td>\n",
       "    </tr>\n",
       "    <tr>\n",
       "      <th>1</th>\n",
       "      <td>2</td>\n",
       "      <td>2</td>\n",
       "      <td>1.5</td>\n",
       "      <td>1</td>\n",
       "      <td>0.8</td>\n",
       "      <td>0.5</td>\n",
       "      <td>bandit/4</td>\n",
       "      <td>/Users/robvangastel/Git/meta-learners/results/...</td>\n",
       "      <td>bandit</td>\n",
       "      <td>NaN</td>\n",
       "      <td>...</td>\n",
       "      <td>NaN</td>\n",
       "      <td>NaN</td>\n",
       "      <td>NaN</td>\n",
       "      <td>NaN</td>\n",
       "      <td>NaN</td>\n",
       "      <td>NaN</td>\n",
       "      <td>NaN</td>\n",
       "      <td>NaN</td>\n",
       "      <td>NaN</td>\n",
       "      <td>/Users/robvangastel/Git/meta-learners/results/...</td>\n",
       "    </tr>\n",
       "    <tr>\n",
       "      <th>2</th>\n",
       "      <td>3</td>\n",
       "      <td>3</td>\n",
       "      <td>1.9</td>\n",
       "      <td>1</td>\n",
       "      <td>0.4</td>\n",
       "      <td>1.1</td>\n",
       "      <td>bandit/4</td>\n",
       "      <td>/Users/robvangastel/Git/meta-learners/results/...</td>\n",
       "      <td>bandit</td>\n",
       "      <td>NaN</td>\n",
       "      <td>...</td>\n",
       "      <td>NaN</td>\n",
       "      <td>NaN</td>\n",
       "      <td>NaN</td>\n",
       "      <td>NaN</td>\n",
       "      <td>NaN</td>\n",
       "      <td>NaN</td>\n",
       "      <td>NaN</td>\n",
       "      <td>NaN</td>\n",
       "      <td>NaN</td>\n",
       "      <td>/Users/robvangastel/Git/meta-learners/results/...</td>\n",
       "    </tr>\n",
       "    <tr>\n",
       "      <th>3</th>\n",
       "      <td>4</td>\n",
       "      <td>4</td>\n",
       "      <td>2.6</td>\n",
       "      <td>1</td>\n",
       "      <td>0.7</td>\n",
       "      <td>1.4</td>\n",
       "      <td>bandit/4</td>\n",
       "      <td>/Users/robvangastel/Git/meta-learners/results/...</td>\n",
       "      <td>bandit</td>\n",
       "      <td>NaN</td>\n",
       "      <td>...</td>\n",
       "      <td>NaN</td>\n",
       "      <td>NaN</td>\n",
       "      <td>NaN</td>\n",
       "      <td>NaN</td>\n",
       "      <td>NaN</td>\n",
       "      <td>NaN</td>\n",
       "      <td>NaN</td>\n",
       "      <td>NaN</td>\n",
       "      <td>NaN</td>\n",
       "      <td>/Users/robvangastel/Git/meta-learners/results/...</td>\n",
       "    </tr>\n",
       "    <tr>\n",
       "      <th>4</th>\n",
       "      <td>5</td>\n",
       "      <td>5</td>\n",
       "      <td>3.2</td>\n",
       "      <td>1</td>\n",
       "      <td>0.6</td>\n",
       "      <td>1.8</td>\n",
       "      <td>bandit/4</td>\n",
       "      <td>/Users/robvangastel/Git/meta-learners/results/...</td>\n",
       "      <td>bandit</td>\n",
       "      <td>NaN</td>\n",
       "      <td>...</td>\n",
       "      <td>NaN</td>\n",
       "      <td>NaN</td>\n",
       "      <td>NaN</td>\n",
       "      <td>NaN</td>\n",
       "      <td>NaN</td>\n",
       "      <td>NaN</td>\n",
       "      <td>NaN</td>\n",
       "      <td>NaN</td>\n",
       "      <td>NaN</td>\n",
       "      <td>/Users/robvangastel/Git/meta-learners/results/...</td>\n",
       "    </tr>\n",
       "  </tbody>\n",
       "</table>\n",
       "<p>5 rows × 21 columns</p>\n",
       "</div>"
      ],
      "text/plain": [
       "   steps  episode  total_return  episode_len  episode_return  total_regret  \\\n",
       "0      1        1           0.7            1             0.7           0.3   \n",
       "1      2        2           1.5            1             0.8           0.5   \n",
       "2      3        3           1.9            1             0.4           1.1   \n",
       "3      4        4           2.6            1             0.7           1.4   \n",
       "4      5        5           3.2            1             0.6           1.8   \n",
       "\n",
       "  bsuite_id                                        results_dir bsuite_env  \\\n",
       "0  bandit/4  /Users/robvangastel/Git/meta-learners/results/...     bandit   \n",
       "1  bandit/4  /Users/robvangastel/Git/meta-learners/results/...     bandit   \n",
       "2  bandit/4  /Users/robvangastel/Git/meta-learners/results/...     bandit   \n",
       "3  bandit/4  /Users/robvangastel/Git/meta-learners/results/...     bandit   \n",
       "4  bandit/4  /Users/robvangastel/Git/meta-learners/results/...     bandit   \n",
       "\n",
       "   seed  ...  reward_scale  height_threshold  x_reward_threshold  size  \\\n",
       "0   NaN  ...           NaN               NaN                 NaN   NaN   \n",
       "1   NaN  ...           NaN               NaN                 NaN   NaN   \n",
       "2   NaN  ...           NaN               NaN                 NaN   NaN   \n",
       "3   NaN  ...           NaN               NaN                 NaN   NaN   \n",
       "4   NaN  ...           NaN               NaN                 NaN   NaN   \n",
       "\n",
       "   mapping_seed  memory_length  num_bits  n_distractor  chain_length  \\\n",
       "0           NaN            NaN       NaN           NaN           NaN   \n",
       "1           NaN            NaN       NaN           NaN           NaN   \n",
       "2           NaN            NaN       NaN           NaN           NaN   \n",
       "3           NaN            NaN       NaN           NaN           NaN   \n",
       "4           NaN            NaN       NaN           NaN           NaN   \n",
       "\n",
       "                                          agent_name  \n",
       "0  /Users/robvangastel/Git/meta-learners/results/...  \n",
       "1  /Users/robvangastel/Git/meta-learners/results/...  \n",
       "2  /Users/robvangastel/Git/meta-learners/results/...  \n",
       "3  /Users/robvangastel/Git/meta-learners/results/...  \n",
       "4  /Users/robvangastel/Git/meta-learners/results/...  \n",
       "\n",
       "[5 rows x 21 columns]"
      ]
     },
     "execution_count": 55,
     "metadata": {},
     "output_type": "execute_result"
    }
   ],
   "source": [
    "from bsuite.logging import csv_load\n",
    "\n",
    "df, _ = csv_load.load_bsuite(SAVE_PATH_RAND)\n",
    "df.head()"
   ]
  },
  {
   "cell_type": "code",
   "execution_count": 59,
   "metadata": {},
   "outputs": [
    {
     "name": "stdout",
     "output_type": "stream",
     "text": [
      "tags=('basic',)\n"
     ]
    },
    {
     "data": {
      "image/png": "[encoded data removed]",
      "text/plain": [
       "<Figure size 300x600 with 1 Axes>"
      ]
     },
     "metadata": {},
     "output_type": "display_data"
    },
    {
     "data": {
      "text/plain": [
       "<ggplot: (355999653)>"
      ]
     },
     "execution_count": 59,
     "metadata": {},
     "output_type": "execute_result"
    }
   ],
   "source": [
    "from bsuite.experiments import summary_analysis\n",
    "bsuite_score = summary_analysis.bsuite_score(df)\n",
    "\n",
    "bandit_df = df[df.bsuite_env == 'bandit'].copy()\n",
    "summary_analysis.plot_single_experiment(bsuite_score, 'bandit')"
   ]
  },
  {
   "cell_type": "code",
   "execution_count": 65,
   "metadata": {},
   "outputs": [],
   "source": [
    "# TODO:\n",
    "# from bsuite.experiments.bandit import analysis \n",
    "# analysis.plot_average(bandit_df)"
   ]
  },
  {
   "cell_type": "code",
   "execution_count": null,
   "metadata": {},
   "outputs": [],
   "source": []
  },
  {
   "cell_type": "code",
   "execution_count": null,
   "metadata": {},
   "outputs": [],
   "source": []
  }
 ],
 "metadata": {
  "kernelspec": {
   "display_name": "Python 3",
   "language": "python",
   "name": "python3"
  },
  "language_info": {
   "codemirror_mode": {
    "name": "ipython",
    "version": 3
   },
   "file_extension": ".py",
   "mimetype": "text/x-python",
   "name": "python",
   "nbconvert_exporter": "python",
   "pygments_lexer": "ipython3",
   "version": "3.7.7"
  }
 },
 "nbformat": 4,
 "nbformat_minor": 4
}
