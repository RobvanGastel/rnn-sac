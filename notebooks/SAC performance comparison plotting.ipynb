{
 "cells": [
  {
   "cell_type": "code",
   "execution_count": null,
   "id": "blond-entrepreneur",
   "metadata": {},
   "outputs": [],
   "source": [
    "%load_ext autoreload\n",
    "%autoreload 2\n",
    "\n",
    "import sys\n",
    "sys.path.insert(0,'..')\n",
    "sys.path.insert(0,'../rnn-sac')\n",
    "\n",
    "import torch\n",
    "from algo import core\n",
    "from algo import sac as algo\n",
    "from algo.utils import plot\n",
    "import gym"
   ]
  },
  {
   "cell_type": "markdown",
   "id": "temporal-brown",
   "metadata": {},
   "source": [
    "### Comparison of LSTM SAC and SAC on the Pendulum task"
   ]
  },
  {
   "cell_type": "code",
   "execution_count": null,
   "id": "rolled-stuff",
   "metadata": {
    "scrolled": false
   },
   "outputs": [],
   "source": [
    "# Regular OpenAI SpinningUp SAC\n",
    "\n",
    "\n",
    "plot.make_plots(['/home/rob/Git/meta-learners/meta-learners/algo/data/SAC_Pendulum_alpha0.2_lr0.05_batch50_hidden512', \n",
    "                 '/home/rob/Git/meta-learners/meta-learners/algo/data/LSTM_SAC_Pendulum_autoTrue_batch5',\n",
    "                 '/home/rob/Git/meta-learners/meta-learners/algo/data/GRU_SAC_Pendulum'],\n",
    "#                 '/home/rob/Git/meta-learners/meta-learners/algo/data/GRU_SAC' \n",
    "                values=['AverageTestEpRet', 'AverageEpRet'\n",
    "#                       , 'LossQ', 'LossPi','AverageQ2Vals', 'AverageQ1Vals'\n",
    "                       ], \n",
    "                xaxis='Epoch',\n",
    "                smooth=0.6)"
   ]
  },
  {
   "cell_type": "markdown",
   "id": "juvenile-thermal",
   "metadata": {},
   "source": [
    "### Comparing all results on LSTM SAC on the Pendulum task"
   ]
  },
  {
   "cell_type": "code",
   "execution_count": null,
   "id": "outside-webster",
   "metadata": {
    "scrolled": true
   },
   "outputs": [],
   "source": [
    "# Visualizing RNN policy models\n",
    "plot.make_plots([\n",
    "                 '/home/rob/Git/meta-learners/meta-learners/algo/data/LSTM_SAC_Pendulum'], \n",
    "                values=['AverageTestEpRet', 'AverageEpRet'],\n",
    "#                         , 'LossQ', 'LossPi', \n",
    "#                         'AverageQ2Vals', 'AverageQ1Vals'], \n",
    "                xaxis='Epoch',\n",
    "                smooth=0.6)"
   ]
  },
  {
   "cell_type": "markdown",
   "id": "narrow-coaching",
   "metadata": {},
   "source": [
    "### Comparing all results on Bipedal Walker RL$^2$"
   ]
  },
  {
   "cell_type": "markdown",
   "id": "comic-agenda",
   "metadata": {},
   "source": [
    "The distribution $\\mathcal{D}$ of tasks $\\mathcal{T_i}$ consists of the BipedalWalker and HardcoreBipedalWalker. Hence, from $\\mathcal{D}$ is sampled during training and testing."
   ]
  },
  {
   "cell_type": "code",
   "execution_count": null,
   "id": "molecular-factory",
   "metadata": {},
   "outputs": [],
   "source": [
    "plot.make_plots([\n",
    "                 '/home/rob/Git/meta-learners/meta-learners/algo/data/RL2'],\n",
    "                values=['AverageTestEpRet', 'AverageEpRet'], \n",
    "                xaxis='Epoch',\n",
    "                smooth=0.6)"
   ]
  },
  {
   "cell_type": "code",
   "execution_count": null,
   "id": "revolutionary-substance",
   "metadata": {},
   "outputs": [],
   "source": [
    "plot.make_plots([\n",
    "                 '/home/rob/Git/meta-learners/meta-learners/algo/data/LSTM_SAC_Bipedal'],\n",
    "                values=['AverageTestEpRet', 'AverageEpRet'], \n",
    "                xaxis='Epoch',\n",
    "                smooth=0.6)"
   ]
  },
  {
   "cell_type": "code",
   "execution_count": null,
   "id": "optional-cambridge",
   "metadata": {},
   "outputs": [],
   "source": []
  }
 ],
 "metadata": {
  "kernelspec": {
   "display_name": "Python 3",
   "language": "python",
   "name": "python3"
  },
  "language_info": {
   "codemirror_mode": {
    "name": "ipython",
    "version": 3
   },
   "file_extension": ".py",
   "mimetype": "text/x-python",
   "name": "python",
   "nbconvert_exporter": "python",
   "pygments_lexer": "ipython3",
   "version": "3.7.10"
  }
 },
 "nbformat": 4,
 "nbformat_minor": 5
}
