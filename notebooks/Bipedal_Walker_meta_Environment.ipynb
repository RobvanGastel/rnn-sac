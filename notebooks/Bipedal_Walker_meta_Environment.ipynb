{
 "cells": [
  {
   "cell_type": "code",
   "execution_count": 2,
   "id": "optional-thumb",
   "metadata": {},
   "outputs": [],
   "source": [
    "import metaworld\n",
    "import random\n",
    "import torch\n",
    "import gym\n",
    "\n",
    "from garage.envs import GymEnv, MetaWorldSetTaskEnv\n",
    "from garage.envs.multi_env_wrapper import MultiEnvWrapper\n",
    "from garage.experiment import (MetaEvaluator, MetaWorldTaskSampler,\n",
    "                               SetTaskSampler)\n",
    "\n",
    "import matplotlib.pyplot as plt"
   ]
  },
  {
   "cell_type": "code",
   "execution_count": 3,
   "id": "elementary-stack",
   "metadata": {},
   "outputs": [
    {
     "name": "stderr",
     "output_type": "stream",
     "text": [
      "/home/rob/.conda/envs/meta/lib/python3.7/site-packages/gym/logger.py:30: UserWarning: \u001b[33mWARN: Box bound precision lowered by casting to float32\u001b[0m\n",
      "  warnings.warn(colorize('%s: %s'%('WARN', msg % args), 'yellow'))\n"
     ]
    },
    {
     "data": {
      "text/plain": [
       "(Box(-inf, inf, (24,), float32),\n",
       " Box(-1.0, 1.0, (4,), float32),\n",
       " Box(-inf, inf, (24,), float32),\n",
       " Box(-1.0, 1.0, (4,), float32))"
      ]
     },
     "execution_count": 3,
     "metadata": {},
     "output_type": "execute_result"
    }
   ],
   "source": [
    "env = gym.make('BipedalWalker-v3')\n",
    "env2 = gym.make('BipedalWalker-v3')\n",
    "\n",
    "env.observation_space, env.action_space, env2.observation_space, env2.action_space"
   ]
  },
  {
   "cell_type": "code",
   "execution_count": 32,
   "id": "departmental-dayton",
   "metadata": {},
   "outputs": [
    {
     "data": {
      "text/plain": [
       "(39,)"
      ]
     },
     "execution_count": 32,
     "metadata": {},
     "output_type": "execute_result"
    }
   ],
   "source": [
    "ml1 = metaworld.ML1('push-v2')\n",
    "\n",
    "task = random.choice(ml1.train_tasks)\n",
    "task\n",
    "\n",
    "env = ml1.train_classes['push-v2']() \n",
    "\n",
    "env.set_task(task)\n",
    "env.reset().shape"
   ]
  },
  {
   "cell_type": "code",
   "execution_count": 33,
   "id": "personal-couple",
   "metadata": {},
   "outputs": [
    {
     "data": {
      "text/plain": [
       "(Box(-1.0, 1.0, (4,), float32), Box(-inf, inf, (39,), float32))"
      ]
     },
     "execution_count": 33,
     "metadata": {},
     "output_type": "execute_result"
    }
   ],
   "source": [
    "env.action_space, env.observation_space"
   ]
  },
  {
   "cell_type": "code",
   "execution_count": null,
   "id": "global-static",
   "metadata": {},
   "outputs": [],
   "source": []
  }
 ],
 "metadata": {
  "kernelspec": {
   "display_name": "Python 3",
   "language": "python",
   "name": "python3"
  },
  "language_info": {
   "codemirror_mode": {
    "name": "ipython",
    "version": 3
   },
   "file_extension": ".py",
   "mimetype": "text/x-python",
   "name": "python",
   "nbconvert_exporter": "python",
   "pygments_lexer": "ipython3",
   "version": "3.7.10"
  }
 },
 "nbformat": 4,
 "nbformat_minor": 5
}
