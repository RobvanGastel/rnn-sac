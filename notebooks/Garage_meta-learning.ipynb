{
 "cells": [
  {
   "cell_type": "code",
   "execution_count": 2,
   "id": "violent-complex",
   "metadata": {},
   "outputs": [],
   "source": [
    "import numpy as np\n",
    "import gym\n",
    "# TODO: For more gym_bandit environemnts, or use Bsuite Bandits\n",
    "import gym_bandits\n",
    "\n",
    "import garage"
   ]
  },
  {
   "cell_type": "code",
   "execution_count": 3,
   "id": "popular-elephant",
   "metadata": {},
   "outputs": [
    {
     "name": "stdout",
     "output_type": "stream",
     "text": [
      "garage                        2020.9.0rc2.dev0    /Users/robvangastel/Git/garage/src\n",
      "tensorflow                    2.4.1\n",
      "tensorflow-estimator          2.4.0\n",
      "tensorflow-probability        0.12.1\n"
     ]
    }
   ],
   "source": [
    "!pip list | grep garage\n",
    "!pip list | grep tensorflow"
   ]
  },
  {
   "cell_type": "markdown",
   "id": "vanilla-robinson",
   "metadata": {},
   "source": [
    "## Bandits environments in the OpenAI Gym"
   ]
  },
  {
   "cell_type": "code",
   "execution_count": 4,
   "id": "accurate-formation",
   "metadata": {},
   "outputs": [
    {
     "data": {
      "text/plain": [
       "<gym_bandits.envs.bandits_env.MultiarmedBanditsEnv at 0x110eb9290>"
      ]
     },
     "execution_count": 4,
     "metadata": {},
     "output_type": "execute_result"
    }
   ],
   "source": [
    "banditEnv = gym.make('MultiarmedBandits-v0')\n",
    "banditEnv"
   ]
  },
  {
   "cell_type": "markdown",
   "id": "democratic-bangladesh",
   "metadata": {},
   "source": [
    "## RL2"
   ]
  },
  {
   "cell_type": "code",
   "execution_count": 5,
   "id": "specified-enforcement",
   "metadata": {},
   "outputs": [
    {
     "name": "stdout",
     "output_type": "stream",
     "text": [
      "2021-02-27 18:37:16 | [rl2_ppo_bandit_meta_test] Logging to /Users/robvangastel/Git/meta-learners/notebooks/data/local/experiment/rl2_ppo_bandit_meta_test\n"
     ]
    },
    {
     "data": {
      "text/plain": [
       "NotImplemented"
      ]
     },
     "execution_count": 5,
     "metadata": {},
     "output_type": "execute_result"
    }
   ],
   "source": [
    "from garage import wrap_experiment\n",
    "from garage.envs import GymEnv #Old object?\n",
    "\n",
    "# TODO: The current environments, require a meta-RL base class\n",
    "@wrap_experiment\n",
    "def rl2_ppo_bandit_meta_test(ctxt, seed=42, meta_batch_size=10, n_epochs=10,\n",
    "                                  episode_per_task=4):\n",
    "    return NotImplemented\n",
    "\n",
    "\n",
    "\n",
    "rl2_ppo_bandit_meta_test()"
   ]
  },
  {
   "cell_type": "markdown",
   "id": "democratic-effect",
   "metadata": {},
   "source": [
    "## MAML with RL"
   ]
  },
  {
   "cell_type": "code",
   "execution_count": 1,
   "id": "distributed-parallel",
   "metadata": {},
   "outputs": [
    {
     "name": "stdout",
     "output_type": "stream",
     "text": [
      "2021-02-27 21:19:24 | [te_ppo_ml1_push] Logging to /Users/robvangastel/Git/meta-learners/notebooks/data/local/experiment/te_ppo_ml1_push_22\n"
     ]
    },
    {
     "name": "stderr",
     "output_type": "stream",
     "text": [
      "/Users/robvangastel/.local/lib/python3.7/site-packages/gym/logger.py:30: UserWarning: \u001b[33mWARN: Box bound precision lowered by casting to float32\u001b[0m\n",
      "  warnings.warn(colorize('%s: %s'%('WARN', msg % args), 'yellow'))\n",
      "/Users/robvangastel/.conda/envs/meta/lib/python3.7/site-packages/tensorflow/python/keras/legacy_tf_layers/core.py:171: UserWarning: `tf.layers.dense` is deprecated and will be removed in a future version. Please use `tf.keras.layers.Dense` instead.\n",
      "  warnings.warn('`tf.layers.dense` is deprecated and '\n",
      "/Users/robvangastel/.conda/envs/meta/lib/python3.7/site-packages/tensorflow/python/keras/engine/base_layer_v1.py:1719: UserWarning: `layer.apply` is deprecated and will be removed in a future version. Please use `layer.__call__` method instead.\n",
      "  warnings.warn('`layer.apply` is deprecated and '\n"
     ]
    },
    {
     "name": "stdout",
     "output_type": "stream",
     "text": [
      "WARNING:tensorflow:From /Users/robvangastel/.conda/envs/meta/lib/python3.7/site-packages/garage/tf/models/model.py:347: Variable.load (from tensorflow.python.ops.variables) is deprecated and will be removed in a future version.\n",
      "Instructions for updating:\n",
      "Prefer Variable.assign which has equivalent behavior in 2.X.\n",
      "2021-02-27 21:19:25 | [te_ppo_ml1_push] Obtaining samples...\n",
      "2021-02-27 21:19:26 | [te_ppo_ml1_push] epoch #0 | Optimizing policy...\n",
      "2021-02-27 21:19:26 | [te_ppo_ml1_push] epoch #0 | Computing loss before\n",
      "2021-02-27 21:19:26 | [te_ppo_ml1_push] epoch #0 | Computing KL before\n",
      "2021-02-27 21:19:26 | [te_ppo_ml1_push] epoch #0 | Optimizing\n",
      "2021-02-27 21:19:26 | [te_ppo_ml1_push] epoch #0 | Start CG optimization: #parameters: 1378, #inputs: 1, #subsample_inputs: 1\n",
      "2021-02-27 21:19:26 | [te_ppo_ml1_push] epoch #0 | computing loss before\n",
      "2021-02-27 21:19:26 | [te_ppo_ml1_push] epoch #0 | computing gradient\n",
      "2021-02-27 21:19:26 | [te_ppo_ml1_push] epoch #0 | gradient computed\n",
      "2021-02-27 21:19:26 | [te_ppo_ml1_push] epoch #0 | computing descent direction\n"
     ]
    },
    {
     "name": "stderr",
     "output_type": "stream",
     "text": [
      "/Users/robvangastel/.conda/envs/meta/lib/python3.7/site-packages/garage/tf/optimizers/conjugate_gradient_optimizer.py:546: RuntimeWarning: invalid value encountered in float_scalars\n",
      "  v = rdotr / p.dot(z)\n"
     ]
    },
    {
     "name": "stdout",
     "output_type": "stream",
     "text": [
      "2021-02-27 21:19:26 | [te_ppo_ml1_push] epoch #0 | descent direction computed\n",
      "2021-02-27 21:19:26 | [te_ppo_ml1_push] epoch #0 | Line search condition violated. Rejecting the step!\n",
      "2021-02-27 21:19:26 | [te_ppo_ml1_push] epoch #0 | Violated because loss is NaN\n",
      "2021-02-27 21:19:26 | [te_ppo_ml1_push] epoch #0 | Violated because constraint mean_kl is NaN\n",
      "2021-02-27 21:19:26 | [te_ppo_ml1_push] epoch #0 | backtrack iters: 14\n",
      "2021-02-27 21:19:26 | [te_ppo_ml1_push] epoch #0 | optimization finished\n",
      "2021-02-27 21:19:26 | [te_ppo_ml1_push] epoch #0 | Computing KL after\n",
      "2021-02-27 21:19:26 | [te_ppo_ml1_push] epoch #0 | Computing loss after\n",
      "2021-02-27 21:19:26 | [te_ppo_ml1_push] epoch #0 | Fitting baseline...\n",
      "2021-02-27 21:19:26 | [te_ppo_ml1_push] epoch #0 | Saving snapshot...\n",
      "2021-02-27 21:19:26 | [te_ppo_ml1_push] epoch #0 | Saved\n",
      "2021-02-27 21:19:26 | [te_ppo_ml1_push] epoch #0 | Time 1.07 s\n",
      "2021-02-27 21:19:26 | [te_ppo_ml1_push] epoch #0 | EpochTime 1.07 s\n",
      "---------------------------------------  ------------\n",
      "Evaluation/AverageDiscountedReturn       34.4341\n",
      "Evaluation/AverageReturn                 42\n",
      "Evaluation/Iteration                      0\n",
      "Evaluation/MaxReturn                     42\n",
      "Evaluation/MinReturn                     42\n",
      "Evaluation/NumEpisodes                    1\n",
      "Evaluation/StdReturn                      0\n",
      "Evaluation/TerminationRate                1\n",
      "Extras/EpisodeRewardMean                 42\n",
      "LinearFeatureBaseline/ExplainedVariance  -4.23819e-08\n",
      "TotalEnvSteps                            42\n",
      "policy/Entropy                            3.29841\n",
      "policy/KL                                 0\n",
      "policy/KLBefore                           0\n",
      "policy/LossAfter                         -0\n",
      "policy/LossBefore                        -0\n",
      "policy/Perplexity                        27.0695\n",
      "policy/dLoss                              0\n",
      "---------------------------------------  ------------\n"
     ]
    }
   ],
   "source": [
    "import tensorflow as tf\n",
    "\n",
    "from garage import wrap_experiment\n",
    "from garage.envs import GymEnv, normalize\n",
    "from garage.envs.multi_env_wrapper import MultiEnvWrapper\n",
    "from garage import TFTrainer\n",
    "from garage.np.baselines import LinearFeatureBaseline\n",
    "from garage.experiment.deterministic import set_seed\n",
    "from garage.np.baselines import LinearMultiFeatureBaseline\n",
    "from garage.sampler import LocalSampler\n",
    "from garage.tf.algos.te import TaskEmbeddingWorker\n",
    "from garage.tf.embeddings import GaussianMLPEncoder\n",
    "from garage.tf.policies import GaussianMLPTaskEmbeddingPolicy\n",
    "from garage.tf.policies import CategoricalMLPPolicy\n",
    "from garage.tf.algos import TRPO\n",
    "\n",
    "@wrap_experiment\n",
    "def te_ppo_ml1_push(ctxt, seed=42, n_epochs=1, batch_size_per_task=20):\n",
    "    set_seed(seed)\n",
    "    envs = [GymEnv('CartPole-v0'), GymEnv('CartPole-v0'), GymEnv('CartPole-v0')]\n",
    "    env = MultiEnvWrapper(envs)\n",
    "    \n",
    "    latent_length = 2\n",
    "    inference_window = 6\n",
    "    batch_size = batch_size_per_task\n",
    "    policy_ent_coeff = 2e-2\n",
    "    encoder_ent_coeff = 2e-4\n",
    "    inference_ce_coeff = 5e-2\n",
    "    max_episode_length = 100\n",
    "    embedding_init_std = 0.1\n",
    "    embedding_max_std = 0.2\n",
    "    embedding_min_std = 1e-6\n",
    "    policy_init_std = 1.0\n",
    "    policy_max_std = None\n",
    "    policy_min_std = None\n",
    "\n",
    "    with TFTrainer(snapshot_config=ctxt) as trainer:\n",
    "        policy = CategoricalMLPPolicy(name='policy',\n",
    "                                      env_spec=env.spec,\n",
    "                                      hidden_sizes=(32, 32))\n",
    "\n",
    "\n",
    "        sampler = LocalSampler(agents=policy,\n",
    "                               envs=env,\n",
    "                              max_episode_length=200)\n",
    "\n",
    "        baseline = LinearFeatureBaseline(env_spec=env.spec)\n",
    "        algo = TRPO(\n",
    "            env_spec=env.spec,\n",
    "            sampler=sampler,\n",
    "            policy=policy,\n",
    "            baseline=baseline,\n",
    "            discount=0.99,\n",
    "            max_kl_step=0.01,\n",
    "        )\n",
    "        \n",
    "\n",
    "        trainer.setup(algo, env)\n",
    "        trainer.train(n_epochs=n_epochs, batch_size=batch_size, plot=False)\n",
    "\n",
    "\n",
    "te_ppo_ml1_push()"
   ]
  },
  {
   "cell_type": "code",
   "execution_count": null,
   "id": "liable-cisco",
   "metadata": {},
   "outputs": [],
   "source": []
  }
 ],
 "metadata": {
  "kernelspec": {
   "display_name": "Python 3",
   "language": "python",
   "name": "python3"
  },
  "language_info": {
   "codemirror_mode": {
    "name": "ipython",
    "version": 3
   },
   "file_extension": ".py",
   "mimetype": "text/x-python",
   "name": "python",
   "nbconvert_exporter": "python",
   "pygments_lexer": "ipython3",
   "version": "3.7.10"
  }
 },
 "nbformat": 4,
 "nbformat_minor": 5
}
