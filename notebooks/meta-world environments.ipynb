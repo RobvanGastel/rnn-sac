{
 "cells": [
  {
   "cell_type": "code",
   "execution_count": null,
   "id": "optional-thumb",
   "metadata": {},
   "outputs": [],
   "source": [
    "import metaworld\n",
    "import random\n",
    "import torch\n",
    "import gym\n",
    "\n",
    "from garage.envs import GymEnv, MetaWorldSetTaskEnv\n",
    "from garage.envs.multi_env_wrapper import MultiEnvWrapper\n",
    "from garage.experiment import (MetaEvaluator, MetaWorldTaskSampler,\n",
    "                               SetTaskSampler)\n",
    "\n",
    "import matplotlib.pyplot as plt"
   ]
  },
  {
   "cell_type": "code",
   "execution_count": 3,
   "id": "elementary-stack",
   "metadata": {},
   "outputs": [
    {
     "name": "stderr",
     "output_type": "stream",
     "text": [
      "/home/rob/.conda/envs/meta/lib/python3.7/site-packages/gym/logger.py:30: UserWarning: \u001b[33mWARN: Box bound precision lowered by casting to float32\u001b[0m\n",
      "  warnings.warn(colorize('%s: %s'%('WARN', msg % args), 'yellow'))\n"
     ]
    },
    {
     "data": {
      "text/plain": [
       "(Box(-inf, inf, (24,), float32),\n",
       " Box(-1.0, 1.0, (4,), float32),\n",
       " Box(-inf, inf, (24,), float32),\n",
       " Box(-1.0, 1.0, (4,), float32))"
      ]
     },
     "execution_count": 3,
     "metadata": {},
     "output_type": "execute_result"
    }
   ],
   "source": [
    "env = gym.make('BipedalWalker-v3')\n",
    "env2 = gym.make('BipedalWalker-v3')\n",
    "\n",
    "env.observation_space, env.action_space, env2.observation_space, env2.action_space"
   ]
  },
  {
   "cell_type": "code",
   "execution_count": 1,
   "id": "departmental-dayton",
   "metadata": {},
   "outputs": [
    {
     "ename": "NameError",
     "evalue": "name 'metaworld' is not defined",
     "output_type": "error",
     "traceback": [
      "\u001b[0;31m---------------------------------------------------------------------------\u001b[0m",
      "\u001b[0;31mNameError\u001b[0m                                 Traceback (most recent call last)",
      "\u001b[0;32m<ipython-input-1-1e3f12b6c1fa>\u001b[0m in \u001b[0;36m<module>\u001b[0;34m\u001b[0m\n\u001b[0;32m----> 1\u001b[0;31m \u001b[0mml1\u001b[0m \u001b[0;34m=\u001b[0m \u001b[0mmetaworld\u001b[0m\u001b[0;34m.\u001b[0m\u001b[0mML1\u001b[0m\u001b[0;34m(\u001b[0m\u001b[0;34m'push-v2'\u001b[0m\u001b[0;34m)\u001b[0m\u001b[0;34m\u001b[0m\u001b[0;34m\u001b[0m\u001b[0m\n\u001b[0m\u001b[1;32m      2\u001b[0m \u001b[0;34m\u001b[0m\u001b[0m\n\u001b[1;32m      3\u001b[0m \u001b[0mtask\u001b[0m \u001b[0;34m=\u001b[0m \u001b[0mrandom\u001b[0m\u001b[0;34m.\u001b[0m\u001b[0mchoice\u001b[0m\u001b[0;34m(\u001b[0m\u001b[0mml1\u001b[0m\u001b[0;34m.\u001b[0m\u001b[0mtrain_tasks\u001b[0m\u001b[0;34m)\u001b[0m\u001b[0;34m\u001b[0m\u001b[0;34m\u001b[0m\u001b[0m\n\u001b[1;32m      4\u001b[0m \u001b[0mtask\u001b[0m\u001b[0;34m\u001b[0m\u001b[0;34m\u001b[0m\u001b[0m\n",
      "\u001b[0;31mNameError\u001b[0m: name 'metaworld' is not defined"
     ]
    }
   ],
   "source": [
    "# Meta-world requires a new license\n",
    "ml1 = metaworld.ML1('push-v2')\n",
    "\n",
    "task = random.choice(ml1.train_tasks)\n",
    "task"
   ]
  },
  {
   "cell_type": "code",
   "execution_count": null,
   "id": "global-static",
   "metadata": {},
   "outputs": [],
   "source": [
    "env = ml1.train_classes['push-v2']() \n",
    "\n",
    "env.set_task(task)\n",
    "env.reset().shape"
   ]
  },
  {
   "cell_type": "code",
   "execution_count": null,
   "id": "subtle-directive",
   "metadata": {},
   "outputs": [],
   "source": []
  },
  {
   "cell_type": "code",
   "execution_count": 5,
   "id": "floral-penetration",
   "metadata": {},
   "outputs": [
    {
     "data": {
      "text/plain": [
       "<gym_minigrid.envs.empty.EmptyEnv at 0x7f54140a3650>"
      ]
     },
     "execution_count": 5,
     "metadata": {},
     "output_type": "execute_result"
    }
   ],
   "source": [
    "import gym\n",
    "from gym_minigrid.wrappers import *\n",
    "env = gym.make('MiniGrid-Empty-8x8-v0')\n",
    "\n",
    "env"
   ]
  },
  {
   "cell_type": "code",
   "execution_count": null,
   "id": "speaking-pleasure",
   "metadata": {},
   "outputs": [],
   "source": []
  },
  {
   "cell_type": "code",
   "execution_count": null,
   "id": "invalid-reporter",
   "metadata": {},
   "outputs": [],
   "source": []
  }
 ],
 "metadata": {
  "kernelspec": {
   "display_name": "Python 3",
   "language": "python",
   "name": "python3"
  },
  "language_info": {
   "codemirror_mode": {
    "name": "ipython",
    "version": 3
   },
   "file_extension": ".py",
   "mimetype": "text/x-python",
   "name": "python",
   "nbconvert_exporter": "python",
   "pygments_lexer": "ipython3",
   "version": "3.7.10"
  }
 },
 "nbformat": 4,
 "nbformat_minor": 5
}
